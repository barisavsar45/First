{
 "cells": [
  {
   "cell_type": "code",
   "execution_count": 10,
   "id": "4c827a40",
   "metadata": {},
   "outputs": [
    {
     "name": "stdout",
     "output_type": "stream",
     "text": [
      "3650.0\n",
      "2920.0\n"
     ]
    }
   ],
   "source": [
    "MaasAli = 5000\n",
    "MaasAhmet = 4000\n",
    "vergi = 0.27\n",
    "print(MaasAli - (MaasAli * vergi))\n",
    "print(MaasAhmet - (MaasAhmet * vergi))\n",
    "\n",
    "#Değişken tanımlama kurallar\n",
    "\n"
   ]
  },
  {
   "cell_type": "code",
   "execution_count": 7,
   "id": "b98d71aa",
   "metadata": {},
   "outputs": [
    {
     "data": {
      "text/plain": [
       "float"
      ]
     },
     "execution_count": 7,
     "metadata": {},
     "output_type": "execute_result"
    }
   ],
   "source": [
    "type (2.1)"
   ]
  },
  {
   "cell_type": "code",
   "execution_count": null,
   "id": "af3aa99d",
   "metadata": {},
   "outputs": [],
   "source": []
  }
 ],
 "metadata": {
  "kernelspec": {
   "display_name": "Python 3",
   "language": "python",
   "name": "python3"
  },
  "language_info": {
   "codemirror_mode": {
    "name": "ipython",
    "version": 3
   },
   "file_extension": ".py",
   "mimetype": "text/x-python",
   "name": "python",
   "nbconvert_exporter": "python",
   "pygments_lexer": "ipython3",
   "version": "3.8.8"
  }
 },
 "nbformat": 4,
 "nbformat_minor": 5
}
